{
 "cells": [
  {
   "cell_type": "markdown",
   "metadata": {},
   "source": [
    "Let's Code21:32\n",
    "Fonte: https://github.com/rougier/numpy-100/blob/master/100_Numpy_exercises.ipynb\n",
    "\n",
    "8. Reverse a vector (first element becomes last) (★☆☆)\n",
    "9. Create a 3x3 matrix with values ranging from 0 to 8 (★☆☆)\n",
    "10. Find indices of non-zero elements from [1,2,0,0,4,0] (★☆☆)\n",
    "11. Create a 3x3 identity matrix (★☆☆)\n",
    "12. Create a 3x3x3 array with random values (★☆☆)\n",
    "13. Create a 10x10 array with random values and find the minimum and maximum values (★☆☆)\n",
    "15. Create a 2d array with 1 on the border and 0 inside (★☆\n",
    "16. How to add a border (filled with 0's) around an existing array? (★☆☆)\n",
    "18. Create a 5x5 matrix with values 1,2,3,4 just below the diagonal (★☆☆)"
   ]
  },
  {
   "cell_type": "code",
   "execution_count": 11,
   "metadata": {
    "collapsed": true
   },
   "outputs": [],
   "source": [
    "#importanto o numpy\n",
    "import numpy as np"
   ]
  },
  {
   "cell_type": "code",
   "execution_count": 1,
   "metadata": {},
   "outputs": [
    {
     "name": "stdout",
     "output_type": "stream",
     "text": [
      "Array is : [1, 2, 3, 4, 5]\n"
     ]
    }
   ],
   "source": [
    "#array original\n",
    "arr = [1, 2, 3, 4, 5]\n",
    "print(\"Array is :\",arr)"
   ]
  },
  {
   "cell_type": "code",
   "execution_count": 4,
   "metadata": {},
   "outputs": [
    {
     "name": "stdout",
     "output_type": "stream",
     "text": [
      "array reverso [5, 4, 3, 2, 1]\n"
     ]
    }
   ],
   "source": [
    "#array reverso\n",
    "re = arr[::-1] \n",
    "print(\"array reverso\",re)"
   ]
  },
  {
   "cell_type": "code",
   "execution_count": 7,
   "metadata": {},
   "outputs": [
    {
     "name": "stdout",
     "output_type": "stream",
     "text": [
      "array reverso [5, 4, 3, 2, 1]\n"
     ]
    }
   ],
   "source": [
    "# segunda forma de fazer array reverso\n",
    "re = arr\n",
    "re.reverse()\n",
    "print(\"array reverso\",re)"
   ]
  },
  {
   "cell_type": "code",
   "execution_count": 10,
   "metadata": {},
   "outputs": [
    {
     "data": {
      "text/plain": [
       "array([[0, 1, 2],\n",
       "       [3, 4, 5],\n",
       "       [6, 7, 8]])"
      ]
     },
     "execution_count": 10,
     "metadata": {},
     "output_type": "execute_result"
    }
   ],
   "source": [
    "#criando uma matriz 3X3 com números de 0 a 8\n",
    "\n",
    "np.arange(0,9).reshape((3,3))\n"
   ]
  },
  {
   "cell_type": "code",
   "execution_count": 14,
   "metadata": {},
   "outputs": [
    {
     "name": "stdout",
     "output_type": "stream",
     "text": [
      "lista original [1 2 0 0 4 0]  - indices dos numeros nulos [2 3 5]\n"
     ]
    }
   ],
   "source": [
    "#criando um índice de números não nulos da lista [1,2,0,0,4,0]\n",
    "lst= np.array([1,2,0,0,4,0])\n",
    "\n",
    "indnull=np.where(lst == 0)[0]\n",
    "print(\"lista original\",lst, \" - indices dos numeros nulos\",indnull)"
   ]
  },
  {
   "cell_type": "code",
   "execution_count": 18,
   "metadata": {},
   "outputs": [
    {
     "name": "stdout",
     "output_type": "stream",
     "text": [
      "matriz identidade 3X3\n",
      "[[ 1.  0.  0.]\n",
      " [ 0.  1.  0.]\n",
      " [ 0.  0.  1.]]\n"
     ]
    }
   ],
   "source": [
    "#criando matriz identidade 3X3\n",
    "ident=np.identity(3)\n",
    "print (\"matriz identidade 3X3\")\n",
    "print(ident)"
   ]
  },
  {
   "cell_type": "code",
   "execution_count": 19,
   "metadata": {},
   "outputs": [
    {
     "name": "stdout",
     "output_type": "stream",
     "text": [
      "matriz aleatória 3X3x3\n",
      "[[[ 0.25826319  0.12798585  0.09119137]\n",
      "  [ 0.49631602  0.68849749  0.35635929]\n",
      "  [ 0.88778664  0.68258271  0.47571443]]\n",
      "\n",
      " [[ 0.88722115  0.90441355  0.62411413]\n",
      "  [ 0.39427648  0.95154508  0.50829002]\n",
      "  [ 0.42995507  0.93205406  0.098323  ]]\n",
      "\n",
      " [[ 0.29412867  0.38790355  0.5776375 ]\n",
      "  [ 0.17233931  0.7270855   0.11522807]\n",
      "  [ 0.34881919  0.82810557  0.65520308]]]\n"
     ]
    }
   ],
   "source": [
    "#criando uma matriz 3x3x3 com valores aleatórios\n",
    "mt3rand=np.random.random((3,3,3))\n",
    "print (\"matriz aleatória 3X3x3\")\n",
    "print(mt3rand)"
   ]
  },
  {
   "cell_type": "code",
   "execution_count": 20,
   "metadata": {},
   "outputs": [
    {
     "name": "stdout",
     "output_type": "stream",
     "text": [
      "Original Array:\n",
      "[[ 0.86883773  0.53036662  0.86744972  0.19569676  0.66052362]\n",
      " [ 0.44492421  0.73004537  0.34935753  0.60174609  0.7266599 ]\n",
      " [ 0.99174276  0.87328016  0.15359187  0.78028503  0.26689279]\n",
      " [ 0.32740786  0.44550189  0.32048363  0.778507    0.99140312]\n",
      " [ 0.86754005  0.61549969  0.67874103  0.63591439  0.69039184]]\n"
     ]
    }
   ],
   "source": [
    "#matriz 10X10 com valores aleatórios \n",
    "x = np.random.random((5,5))\n",
    "print(\"Original Array:\")\n",
    "print(x) \n"
   ]
  },
  {
   "cell_type": "code",
   "execution_count": 21,
   "metadata": {},
   "outputs": [
    {
     "name": "stdout",
     "output_type": "stream",
     "text": [
      "Minimum and Maximum Values:\n",
      "0.153591870242 0.991742764031\n"
     ]
    }
   ],
   "source": [
    "#mínimos e máximos da matriz\n",
    "xmin, xmax = x.min(), x.max()\n",
    "print(\"Minimum and Maximum Values:\")\n",
    "print(xmin, xmax)"
   ]
  },
  {
   "cell_type": "code",
   "execution_count": 22,
   "metadata": {},
   "outputs": [
    {
     "name": "stdout",
     "output_type": "stream",
     "text": [
      "Original array:\n",
      "[[ 1.  1.  1.  1.  1.]\n",
      " [ 1.  1.  1.  1.  1.]\n",
      " [ 1.  1.  1.  1.  1.]\n",
      " [ 1.  1.  1.  1.  1.]\n",
      " [ 1.  1.  1.  1.  1.]]\n",
      "1 on the border and 0 inside in the array\n",
      "[[ 1.  1.  1.  1.  1.]\n",
      " [ 1.  0.  0.  0.  1.]\n",
      " [ 1.  0.  0.  0.  1.]\n",
      " [ 1.  0.  0.  0.  1.]\n",
      " [ 1.  1.  1.  1.  1.]]\n"
     ]
    }
   ],
   "source": [
    "#matriz 2 dimensões com 1 na borda e 0 dentro\n",
    "\n",
    "x = np.ones((5,5))\n",
    "print(\"Original array:\")\n",
    "print(x)\n",
    "print(\"1 on the border and 0 inside in the array\")\n",
    "x[1:-1,1:-1] = 0\n",
    "print(x)"
   ]
  },
  {
   "cell_type": "code",
   "execution_count": 23,
   "metadata": {},
   "outputs": [
    {
     "name": "stdout",
     "output_type": "stream",
     "text": [
      "Original array:\n",
      "[[ 1.  1.  1.]\n",
      " [ 1.  1.  1.]\n",
      " [ 1.  1.  1.]]\n",
      "0 on the border and 1 inside in the array\n",
      "[[ 0.  0.  0.  0.  0.]\n",
      " [ 0.  1.  1.  1.  0.]\n",
      " [ 0.  1.  1.  1.  0.]\n",
      " [ 0.  1.  1.  1.  0.]\n",
      " [ 0.  0.  0.  0.  0.]]\n"
     ]
    }
   ],
   "source": [
    "#How to add a border (filled with 0's) around an existing array?\n",
    "                         \n",
    "import numpy as np\n",
    "x = np.ones((3,3))\n",
    "print(\"Original array:\")\n",
    "print(x)\n",
    "print(\"0 on the border and 1 inside in the array\")\n",
    "x = np.pad(x, pad_width=1, mode='constant', constant_values=0)\n",
    "print(x)"
   ]
  },
  {
   "cell_type": "code",
   "execution_count": 25,
   "metadata": {},
   "outputs": [
    {
     "name": "stdout",
     "output_type": "stream",
     "text": [
      "[[0 0 0 0 0]\n",
      " [1 0 0 0 0]\n",
      " [0 2 0 0 0]\n",
      " [0 0 3 0 0]\n",
      " [0 0 0 4 0]]\n"
     ]
    }
   ],
   "source": [
    "#Create a 5x5 matrix with values 1,2,3,4 just below the diagonal\n",
    "x = np.diag(1+np.arange(4),k=-1)\n",
    "print(x)"
   ]
  },
  {
   "cell_type": "code",
   "execution_count": null,
   "metadata": {
    "collapsed": true
   },
   "outputs": [],
   "source": []
  }
 ],
 "metadata": {
  "kernelspec": {
   "display_name": "Python 3",
   "language": "python",
   "name": "python3"
  },
  "language_info": {
   "codemirror_mode": {
    "name": "ipython",
    "version": 3
   },
   "file_extension": ".py",
   "mimetype": "text/x-python",
   "name": "python",
   "nbconvert_exporter": "python",
   "pygments_lexer": "ipython3",
   "version": "3.6.3"
  }
 },
 "nbformat": 4,
 "nbformat_minor": 2
}
